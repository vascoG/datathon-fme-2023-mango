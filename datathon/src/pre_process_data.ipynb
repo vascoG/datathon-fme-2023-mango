{
 "cells": [
  {
   "cell_type": "code",
   "execution_count": 19,
   "metadata": {},
   "outputs": [],
   "source": [
    "import pandas as pd\n",
    "import numpy as np"
   ]
  },
  {
   "cell_type": "markdown",
   "metadata": {},
   "source": [
    "#### Remove home products and fragances"
   ]
  },
  {
   "cell_type": "code",
   "execution_count": 20,
   "metadata": {},
   "outputs": [],
   "source": [
    "product_data = pd.read_csv('../dataset/product_data.csv')\n",
    "\n",
    "product_data = product_data.drop(product_data[product_data.des_line == 'HOME'].index)\n",
    "\n",
    "product_data = product_data.drop(product_data[product_data.des_product_category == 'Beauty'].index)"
   ]
  },
  {
   "cell_type": "markdown",
   "metadata": {},
   "source": [
    "#### Create Footwear Category"
   ]
  },
  {
   "cell_type": "code",
   "execution_count": 21,
   "metadata": {},
   "outputs": [],
   "source": [
    "product_data.loc[product_data['des_product_family'] == 'Footwear', 'des_product_category'] = 'Footwear'\n"
   ]
  },
  {
   "cell_type": "markdown",
   "metadata": {},
   "source": [
    "#### Change category pyjamas sweaters for Tops\n"
   ]
  },
  {
   "cell_type": "code",
   "execution_count": 22,
   "metadata": {},
   "outputs": [],
   "source": [
    "product_data.loc[product_data['des_product_category'] == 'Home', 'des_product_category'] = 'Tops'"
   ]
  },
  {
   "cell_type": "markdown",
   "metadata": {},
   "source": [
    "#### Remove unnecessary columns"
   ]
  },
  {
   "cell_type": "code",
   "execution_count": 23,
   "metadata": {},
   "outputs": [],
   "source": [
    "product_data.drop(['des_line', 'cod_color_code', 'des_product_aggregated_family', 'des_product_family'], axis=1, inplace=True)"
   ]
  },
  {
   "cell_type": "code",
   "execution_count": 24,
   "metadata": {},
   "outputs": [],
   "source": [
    "product_data.head()\n",
    "\n",
    "product_data.to_csv('../dataset/product_data_clean.csv', index=False)"
   ]
  },
  {
   "cell_type": "code",
   "execution_count": 25,
   "metadata": {},
   "outputs": [],
   "source": [
    "outfit_data = pd.read_csv('../dataset/outfit_data.csv')\n",
    "\n",
    "new_outfit_data = outfit_data.merge(product_data, how='left', left_on='cod_modelo_color', right_on='cod_modelo_color')\n",
    "\n",
    "new_outfit_data.to_csv('../dataset/outfit_data_clean.csv', index=False)"
   ]
  }
 ],
 "metadata": {
  "kernelspec": {
   "display_name": "Python 3",
   "language": "python",
   "name": "python3"
  },
  "language_info": {
   "codemirror_mode": {
    "name": "ipython",
    "version": 3
   },
   "file_extension": ".py",
   "mimetype": "text/x-python",
   "name": "python",
   "nbconvert_exporter": "python",
   "pygments_lexer": "ipython3",
   "version": "3.11.4"
  }
 },
 "nbformat": 4,
 "nbformat_minor": 2
}
