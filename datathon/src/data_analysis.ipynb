{
 "cells": [
  {
   "cell_type": "code",
   "execution_count": 60,
   "metadata": {},
   "outputs": [],
   "source": [
    "# Import necessary packages\n",
    "import pandas as pd\n",
    "import numpy as np\n",
    "import matplotlib.pyplot as plt\n"
   ]
  },
  {
   "cell_type": "code",
   "execution_count": 61,
   "metadata": {},
   "outputs": [
    {
     "name": "stdout",
     "output_type": "stream",
     "text": [
      "  cod_modelo_color des_color_specification_esp des_agrup_color_eng des_sex  \\\n",
      "0      41085800-02                    OFFWHITE               WHITE  Female   \n",
      "1      53000586-TO               TEJANO OSCURO                BLUE  Female   \n",
      "2      53030601-81                 ROSA PASTEL                PINK  Female   \n",
      "3      53050730-15                     MOSTAZA              YELLOW  Female   \n",
      "4      53070773-70                        ROJO                 RED  Female   \n",
      "\n",
      "  des_age des_fabric                 des_product_category des_product_type  \\\n",
      "0   Adult    P-PLANA                              Bottoms         Trousers   \n",
      "1   Adult    J-JEANS                              Bottoms            Jeans   \n",
      "2   Adult    P-PLANA  Dresses, jumpsuits and Complete set            Dress   \n",
      "3   Adult    P-PLANA  Dresses, jumpsuits and Complete set            Dress   \n",
      "4   Adult    P-PLANA                                 Tops            Shirt   \n",
      "\n",
      "                           des_filename  \n",
      "0  datathon/images/2019_41085800_02.jpg  \n",
      "1  datathon/images/2019_53000586_TO.jpg  \n",
      "2  datathon/images/2019_53030601_81.jpg  \n",
      "3  datathon/images/2019_53050730_15.jpg  \n",
      "4  datathon/images/2019_53070773_70.jpg  \n",
      "<class 'pandas.core.frame.DataFrame'>\n",
      "RangeIndex: 9142 entries, 0 to 9141\n",
      "Data columns (total 9 columns):\n",
      " #   Column                       Non-Null Count  Dtype \n",
      "---  ------                       --------------  ----- \n",
      " 0   cod_modelo_color             9142 non-null   object\n",
      " 1   des_color_specification_esp  9142 non-null   object\n",
      " 2   des_agrup_color_eng          9142 non-null   object\n",
      " 3   des_sex                      9142 non-null   object\n",
      " 4   des_age                      9142 non-null   object\n",
      " 5   des_fabric                   9142 non-null   object\n",
      " 6   des_product_category         9142 non-null   object\n",
      " 7   des_product_type             9142 non-null   object\n",
      " 8   des_filename                 9142 non-null   object\n",
      "dtypes: object(9)\n",
      "memory usage: 642.9+ KB\n",
      "None\n",
      "       cod_modelo_color des_color_specification_esp des_agrup_color_eng  \\\n",
      "count              9142                        9142                9142   \n",
      "unique             9142                         110                  10   \n",
      "top         41085800-02                       NEGRO                GREY   \n",
      "freq                  1                        2117                2871   \n",
      "\n",
      "       des_sex des_age des_fabric des_product_category des_product_type  \\\n",
      "count     9142    9142       9142                 9142             9142   \n",
      "unique       2       2          7                    6              104   \n",
      "top     Female   Adult    P-PLANA                 Tops            Dress   \n",
      "freq      9140    9123       3008                 2779             1188   \n",
      "\n",
      "                                des_filename  \n",
      "count                                   9142  \n",
      "unique                                  9142  \n",
      "top     datathon/images/2019_41085800_02.jpg  \n",
      "freq                                       1  \n"
     ]
    }
   ],
   "source": [
    "# Load the dataset\n",
    "df = pd.read_csv('../dataset/product_data_clean.csv')\n",
    "\n",
    "# Explore the dataset\n",
    "print(df.head())\n",
    "print(df.info())\n",
    "print(df.describe())\n"
   ]
  },
  {
   "cell_type": "code",
   "execution_count": 62,
   "metadata": {},
   "outputs": [
    {
     "name": "stdout",
     "output_type": "stream",
     "text": [
      "cod_modelo_color               0\n",
      "des_color_specification_esp    0\n",
      "des_agrup_color_eng            0\n",
      "des_sex                        0\n",
      "des_age                        0\n",
      "des_fabric                     0\n",
      "des_product_category           0\n",
      "des_product_type               0\n",
      "des_filename                   0\n",
      "dtype: int64\n"
     ]
    }
   ],
   "source": [
    "# Check for missing values\n",
    "print(df.isnull().sum())\n"
   ]
  },
  {
   "cell_type": "code",
   "execution_count": 63,
   "metadata": {},
   "outputs": [
    {
     "name": "stdout",
     "output_type": "stream",
     "text": [
      "Product Category\n",
      "\n",
      "Tops                                   2779\n",
      "Accesories, Swim and Intimate          2139\n",
      "Bottoms                                1631\n",
      "Dresses, jumpsuits and Complete set    1374\n",
      "Outerwear                               725\n",
      "Footwear                                494\n",
      "Name: des_product_category, dtype: int64\n"
     ]
    }
   ],
   "source": [
    "#Visualize the dataset\n",
    "print(\"Product Category\\n\")\n",
    "print(df['des_product_category'].value_counts())"
   ]
  },
  {
   "cell_type": "code",
   "execution_count": 64,
   "metadata": {},
   "outputs": [
    {
     "name": "stdout",
     "output_type": "stream",
     "text": [
      "Empty DataFrame\n",
      "Columns: [cod_modelo_color, des_color_specification_esp, des_agrup_color_eng, des_sex, des_age, des_fabric, des_product_category, des_product_type, des_filename]\n",
      "Index: []\n"
     ]
    }
   ],
   "source": [
    "home_products = df[df['des_product_category'] == 'Home']\n",
    "print(home_products.head())\n"
   ]
  },
  {
   "cell_type": "code",
   "execution_count": 65,
   "metadata": {},
   "outputs": [
    {
     "name": "stdout",
     "output_type": "stream",
     "text": [
      "\n",
      "Product Type\n",
      "\n",
      "Dress       1188\n",
      "Sweater      649\n",
      "T-Shirt      629\n",
      "Trousers     614\n",
      "Top          544\n",
      "            ... \n",
      "Skort          1\n",
      "Pichi          1\n",
      "Turban         1\n",
      "Knicker        1\n",
      "Clogs          1\n",
      "Name: des_product_type, Length: 104, dtype: int64\n"
     ]
    }
   ],
   "source": [
    "print(\"\\nProduct Type\\n\")\n",
    "print(df['des_product_type'].value_counts())"
   ]
  },
  {
   "cell_type": "code",
   "execution_count": 66,
   "metadata": {},
   "outputs": [
    {
     "name": "stdout",
     "output_type": "stream",
     "text": [
      "\n",
      "Product Fabric\n",
      "\n",
      "P-PLANA           3008\n",
      "C-COMPLEMENTOS    2522\n",
      "K-CIRCULAR        1564\n",
      "T-TRICOT          1274\n",
      "J-JEANS            606\n",
      "O-POLIPIEL          97\n",
      "L-PIEL              71\n",
      "Name: des_fabric, dtype: int64\n"
     ]
    }
   ],
   "source": [
    "print(\"\\nProduct Fabric\\n\")\n",
    "print(df['des_fabric'].value_counts())"
   ]
  },
  {
   "cell_type": "code",
   "execution_count": 67,
   "metadata": {},
   "outputs": [
    {
     "name": "stdout",
     "output_type": "stream",
     "text": [
      "\n",
      "Product Age\n",
      "\n",
      "Adult    9123\n",
      "Kids       19\n",
      "Name: des_age, dtype: int64\n"
     ]
    }
   ],
   "source": [
    "print(\"\\nProduct Age\\n\")\n",
    "print(df['des_age'].value_counts())"
   ]
  },
  {
   "cell_type": "code",
   "execution_count": 68,
   "metadata": {},
   "outputs": [
    {
     "name": "stdout",
     "output_type": "stream",
     "text": [
      "\n",
      "Product Sex\n",
      "\n",
      "Female    9140\n",
      "Male         2\n",
      "Name: des_sex, dtype: int64\n"
     ]
    }
   ],
   "source": [
    "print(\"\\nProduct Sex\\n\")\n",
    "print(df['des_sex'].value_counts())"
   ]
  },
  {
   "cell_type": "code",
   "execution_count": 69,
   "metadata": {},
   "outputs": [
    {
     "name": "stdout",
     "output_type": "stream",
     "text": [
      "\n",
      "Product Aggregate Color\n",
      "\n",
      "GREY      2871\n",
      "WHITE     2762\n",
      "BLUE       949\n",
      "BROWN      754\n",
      "PINK       423\n",
      "RED        399\n",
      "GREEN      391\n",
      "YELLOW     288\n",
      "ORANGE     205\n",
      "PURPLE     100\n",
      "Name: des_agrup_color_eng, dtype: int64\n"
     ]
    }
   ],
   "source": [
    "print(\"\\nProduct Aggregate Color\\n\")\n",
    "print(df['des_agrup_color_eng'].value_counts())\n"
   ]
  },
  {
   "cell_type": "code",
   "execution_count": 70,
   "metadata": {},
   "outputs": [
    {
     "name": "stdout",
     "output_type": "stream",
     "text": [
      "\n",
      "Product Aggregate Color Spanish\n",
      "\n",
      "NEGRO                2117\n",
      "CRUDO                 608\n",
      "OFFWHITE              555\n",
      "ORO                   445\n",
      "BLANCO                418\n",
      "                     ... \n",
      "TEJANO GRIS CLARO       1\n",
      "CIRUELA                 1\n",
      "CENIZA                  1\n",
      "BLOOD                   1\n",
      "ASFALTO                 1\n",
      "Name: des_color_specification_esp, Length: 110, dtype: int64\n"
     ]
    }
   ],
   "source": [
    "print(\"\\nProduct Aggregate Color Spanish\\n\")\n",
    "print(df['des_color_specification_esp'].value_counts())\n"
   ]
  }
 ],
 "metadata": {
  "kernelspec": {
   "display_name": "Python 3",
   "language": "python",
   "name": "python3"
  },
  "language_info": {
   "codemirror_mode": {
    "name": "ipython",
    "version": 3
   },
   "file_extension": ".py",
   "mimetype": "text/x-python",
   "name": "python",
   "nbconvert_exporter": "python",
   "pygments_lexer": "ipython3",
   "version": "3.11.4"
  }
 },
 "nbformat": 4,
 "nbformat_minor": 2
}
