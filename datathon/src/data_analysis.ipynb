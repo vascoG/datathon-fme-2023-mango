{
 "cells": [
  {
   "cell_type": "code",
   "execution_count": 2,
   "metadata": {},
   "outputs": [],
   "source": [
    "# Import necessary packages\n",
    "import pandas as pd\n",
    "import numpy as np\n",
    "import matplotlib.pyplot as plt\n"
   ]
  },
  {
   "cell_type": "code",
   "execution_count": 3,
   "metadata": {},
   "outputs": [
    {
     "name": "stdout",
     "output_type": "stream",
     "text": [
      "  cod_modelo_color cod_color_code des_color_specification_esp  \\\n",
      "0      41085800-02             02                    OFFWHITE   \n",
      "1      53000586-TO             TO               TEJANO OSCURO   \n",
      "2      53030601-81             81                 ROSA PASTEL   \n",
      "3      53050730-15             15                     MOSTAZA   \n",
      "4      53070773-70             70                        ROJO   \n",
      "\n",
      "  des_agrup_color_eng des_sex des_age des_line des_fabric  \\\n",
      "0               WHITE  Female   Adult      SHE    P-PLANA   \n",
      "1                BLUE  Female   Adult      SHE    J-JEANS   \n",
      "2                PINK  Female   Adult      SHE    P-PLANA   \n",
      "3              YELLOW  Female   Adult      SHE    P-PLANA   \n",
      "4                 RED  Female   Adult      SHE    P-PLANA   \n",
      "\n",
      "                  des_product_category des_product_aggregated_family  \\\n",
      "0                              Bottoms           Trousers & leggings   \n",
      "1                              Bottoms                         Jeans   \n",
      "2  Dresses, jumpsuits and Complete set         Dresses and jumpsuits   \n",
      "3  Dresses, jumpsuits and Complete set         Dresses and jumpsuits   \n",
      "4                                 Tops                        Shirts   \n",
      "\n",
      "  des_product_family des_product_type                          des_filename  \n",
      "0           Trousers         Trousers  datathon/images/2019_41085800_02.jpg  \n",
      "1              Jeans            Jeans  datathon/images/2019_53000586_TO.jpg  \n",
      "2            Dresses            Dress  datathon/images/2019_53030601_81.jpg  \n",
      "3            Dresses            Dress  datathon/images/2019_53050730_15.jpg  \n",
      "4              Shirt            Shirt  datathon/images/2019_53070773_70.jpg  \n",
      "<class 'pandas.core.frame.DataFrame'>\n",
      "RangeIndex: 9222 entries, 0 to 9221\n",
      "Data columns (total 13 columns):\n",
      " #   Column                         Non-Null Count  Dtype \n",
      "---  ------                         --------------  ----- \n",
      " 0   cod_modelo_color               9222 non-null   object\n",
      " 1   cod_color_code                 9222 non-null   object\n",
      " 2   des_color_specification_esp    9222 non-null   object\n",
      " 3   des_agrup_color_eng            9222 non-null   object\n",
      " 4   des_sex                        9222 non-null   object\n",
      " 5   des_age                        9222 non-null   object\n",
      " 6   des_line                       9222 non-null   object\n",
      " 7   des_fabric                     9222 non-null   object\n",
      " 8   des_product_category           9222 non-null   object\n",
      " 9   des_product_aggregated_family  9222 non-null   object\n",
      " 10  des_product_family             9222 non-null   object\n",
      " 11  des_product_type               9222 non-null   object\n",
      " 12  des_filename                   9222 non-null   object\n",
      "dtypes: object(13)\n",
      "memory usage: 936.7+ KB\n",
      "None\n",
      "       cod_modelo_color cod_color_code des_color_specification_esp  \\\n",
      "count              9222           9222                        9222   \n",
      "unique             9222            110                         110   \n",
      "top         41085800-02             99                       NEGRO   \n",
      "freq                  1           2119                        2119   \n",
      "\n",
      "       des_agrup_color_eng des_sex des_age des_line des_fabric  \\\n",
      "count                 9222    9222    9222     9222       9222   \n",
      "unique                  10       3       2        5          7   \n",
      "top                   GREY  Female   Adult      SHE    P-PLANA   \n",
      "freq                  2907    9170    9203     9144       3041   \n",
      "\n",
      "       des_product_category des_product_aggregated_family des_product_family  \\\n",
      "count                  9222                          9222               9222   \n",
      "unique                    7                            16                 39   \n",
      "top                    Tops                   Accessories            Dresses   \n",
      "freq                   2768                          2466               1189   \n",
      "\n",
      "       des_product_type                          des_filename  \n",
      "count              9222                                  9222  \n",
      "unique              123                                  9222  \n",
      "top               Dress  datathon/images/2019_41085800_02.jpg  \n",
      "freq               1188                                     1  \n"
     ]
    }
   ],
   "source": [
    "# Load the dataset\n",
    "df = pd.read_csv('../dataset/product_data_clean.csv')\n",
    "\n",
    "# Explore the dataset\n",
    "print(df.head())\n",
    "print(df.info())\n",
    "print(df.describe())"
   ]
  },
  {
   "cell_type": "code",
   "execution_count": 4,
   "metadata": {},
   "outputs": [
    {
     "name": "stdout",
     "output_type": "stream",
     "text": [
      "cod_modelo_color                 0\n",
      "cod_color_code                   0\n",
      "des_color_specification_esp      0\n",
      "des_agrup_color_eng              0\n",
      "des_sex                          0\n",
      "des_age                          0\n",
      "des_line                         0\n",
      "des_fabric                       0\n",
      "des_product_category             0\n",
      "des_product_aggregated_family    0\n",
      "des_product_family               0\n",
      "des_product_type                 0\n",
      "des_filename                     0\n",
      "dtype: int64\n"
     ]
    }
   ],
   "source": [
    "# Check for missing values\n",
    "print(df.isnull().sum())\n"
   ]
  },
  {
   "cell_type": "code",
   "execution_count": 5,
   "metadata": {},
   "outputs": [
    {
     "name": "stdout",
     "output_type": "stream",
     "text": [
      "Product Category\n",
      "\n",
      "Tops                                   2768\n",
      "Accesories, Swim and Intimate          2633\n",
      "Bottoms                                1631\n",
      "Dresses, jumpsuits and Complete set    1374\n",
      "Outerwear                               725\n",
      "Home                                     61\n",
      "Beauty                                   30\n",
      "Name: des_product_category, dtype: int64\n"
     ]
    }
   ],
   "source": [
    "#Visualize the dataset\n",
    "print(\"Product Category\\n\")\n",
    "print(df['des_product_category'].value_counts())"
   ]
  },
  {
   "cell_type": "code",
   "execution_count": 6,
   "metadata": {},
   "outputs": [
    {
     "name": "stdout",
     "output_type": "stream",
     "text": [
      "Product Family\n",
      "\n",
      "Dresses                     1189\n",
      "Shirt                        679\n",
      "Sweater                      662\n",
      "T-shirt                      629\n",
      "Trousers                     614\n",
      "Bags                         602\n",
      "Jewellery                    592\n",
      "Tops                         544\n",
      "Footwear                     494\n",
      "Skirts                       476\n",
      "Jeans                        344\n",
      "Hats, scarves and gloves     272\n",
      "Jackets                      210\n",
      "Jumpsuit                     185\n",
      "Wallets & cases              183\n",
      "Coats                        171\n",
      "Cardigans                    162\n",
      "Belts and Ties               160\n",
      "Shorts                       156\n",
      "Blazers                      147\n",
      "Glasses                      139\n",
      "Intimate                     135\n",
      "Puffer coats                  73\n",
      "Sweatshirts                   56\n",
      "Swimwear                      45\n",
      "Vest                          44\n",
      "Trenchcoats                   42\n",
      "Leggings and joggers          41\n",
      "Fragances                     30\n",
      "Bodysuits                     28\n",
      "Gadgets                       22\n",
      "Leather jackets               17\n",
      "Deco Textiles                 17\n",
      "Bedding                       17\n",
      "Outer Vest                    13\n",
      "Deco Accessories              12\n",
      "Poloshirts                     8\n",
      "Parkas                         8\n",
      "Glassware                      4\n",
      "Name: des_product_family, dtype: int64\n"
     ]
    }
   ],
   "source": [
    "print(\"Product Family\\n\")\n",
    "print(df['des_product_family'].value_counts())"
   ]
  },
  {
   "cell_type": "code",
   "execution_count": 7,
   "metadata": {},
   "outputs": [
    {
     "name": "stdout",
     "output_type": "stream",
     "text": [
      "\n",
      "Product Type\n",
      "\n",
      "Dress         1188\n",
      "Sweater        649\n",
      "T-Shirt        629\n",
      "Trousers       614\n",
      "Top            544\n",
      "              ... \n",
      "Pichi            1\n",
      "Box              1\n",
      "Skort            1\n",
      "Home Spray       1\n",
      "Clogs            1\n",
      "Name: des_product_type, Length: 123, dtype: int64\n"
     ]
    }
   ],
   "source": [
    "print(\"\\nProduct Type\\n\")\n",
    "print(df['des_product_type'].value_counts())"
   ]
  },
  {
   "cell_type": "code",
   "execution_count": 8,
   "metadata": {},
   "outputs": [
    {
     "name": "stdout",
     "output_type": "stream",
     "text": [
      "\n",
      "Product Aggregated Family\n",
      "\n",
      "Accessories               2466\n",
      "Dresses and jumpsuits     1374\n",
      "Sweaters and Cardigans     880\n",
      "Shirts                     679\n",
      "T-shirts                   665\n",
      "Trousers & leggings        655\n",
      "Skirts and shorts          632\n",
      "Tops                       544\n",
      "Jackets and Blazers        418\n",
      "Jeans                      344\n",
      "Coats and Parkas           307\n",
      "Swim and intimate          178\n",
      "Fragance                    30\n",
      "Decor                       29\n",
      "Bedroom                     17\n",
      "Dinning Room                 4\n",
      "Name: des_product_aggregated_family, dtype: int64\n"
     ]
    }
   ],
   "source": [
    "print(\"\\nProduct Aggregated Family\\n\")\n",
    "print(df['des_product_aggregated_family'].value_counts())\n"
   ]
  },
  {
   "cell_type": "code",
   "execution_count": 9,
   "metadata": {},
   "outputs": [
    {
     "name": "stdout",
     "output_type": "stream",
     "text": [
      "\n",
      "Product Fabric\n",
      "\n",
      "P-PLANA           3041\n",
      "C-COMPLEMENTOS    2569\n",
      "K-CIRCULAR        1564\n",
      "T-TRICOT          1274\n",
      "J-JEANS            606\n",
      "O-POLIPIEL          97\n",
      "L-PIEL              71\n",
      "Name: des_fabric, dtype: int64\n"
     ]
    }
   ],
   "source": [
    "print(\"\\nProduct Fabric\\n\")\n",
    "print(df['des_fabric'].value_counts())"
   ]
  },
  {
   "cell_type": "code",
   "execution_count": 10,
   "metadata": {},
   "outputs": [
    {
     "name": "stdout",
     "output_type": "stream",
     "text": [
      "\n",
      "Product Line\n",
      "\n",
      "SHE        9144\n",
      "HOME         50\n",
      "KIDS         19\n",
      "VIOLETA       7\n",
      "HE            2\n",
      "Name: des_line, dtype: int64\n"
     ]
    }
   ],
   "source": [
    "print(\"\\nProduct Line\\n\")\n",
    "print(df['des_line'].value_counts())\n"
   ]
  },
  {
   "cell_type": "code",
   "execution_count": 11,
   "metadata": {},
   "outputs": [
    {
     "name": "stdout",
     "output_type": "stream",
     "text": [
      "\n",
      "Product Age\n",
      "\n",
      "Adult    9203\n",
      "Kids       19\n",
      "Name: des_age, dtype: int64\n"
     ]
    }
   ],
   "source": [
    "print(\"\\nProduct Age\\n\")\n",
    "print(df['des_age'].value_counts())"
   ]
  },
  {
   "cell_type": "code",
   "execution_count": 12,
   "metadata": {},
   "outputs": [
    {
     "name": "stdout",
     "output_type": "stream",
     "text": [
      "\n",
      "Product Sex\n",
      "\n",
      "Female    9170\n",
      "Unisex      50\n",
      "Male         2\n",
      "Name: des_sex, dtype: int64\n"
     ]
    }
   ],
   "source": [
    "print(\"\\nProduct Sex\\n\")\n",
    "print(df['des_sex'].value_counts())"
   ]
  },
  {
   "cell_type": "code",
   "execution_count": 13,
   "metadata": {},
   "outputs": [
    {
     "name": "stdout",
     "output_type": "stream",
     "text": [
      "\n",
      "Product Aggregate Color\n",
      "\n",
      "GREY      2907\n",
      "WHITE     2798\n",
      "BLUE       949\n",
      "BROWN      761\n",
      "PINK       423\n",
      "RED        399\n",
      "GREEN      392\n",
      "YELLOW     288\n",
      "ORANGE     205\n",
      "PURPLE     100\n",
      "Name: des_agrup_color_eng, dtype: int64\n"
     ]
    }
   ],
   "source": [
    "print(\"\\nProduct Aggregate Color\\n\")\n",
    "print(df['des_agrup_color_eng'].value_counts())\n"
   ]
  },
  {
   "cell_type": "code",
   "execution_count": 14,
   "metadata": {},
   "outputs": [
    {
     "name": "stdout",
     "output_type": "stream",
     "text": [
      "\n",
      "Product Aggregate Color Spanish\n",
      "\n",
      "NEGRO                2119\n",
      "CRUDO                 608\n",
      "OFFWHITE              563\n",
      "ORO                   445\n",
      "BLANCO                426\n",
      "                     ... \n",
      "TEJANO GRIS CLARO       1\n",
      "CIRUELA                 1\n",
      "CENIZA                  1\n",
      "BLOOD                   1\n",
      "ASFALTO                 1\n",
      "Name: des_color_specification_esp, Length: 110, dtype: int64\n"
     ]
    }
   ],
   "source": [
    "print(\"\\nProduct Aggregate Color Spanish\\n\")\n",
    "print(df['des_color_specification_esp'].value_counts())\n"
   ]
  },
  {
   "cell_type": "code",
   "execution_count": 15,
   "metadata": {},
   "outputs": [
    {
     "name": "stdout",
     "output_type": "stream",
     "text": [
      "\n",
      "Product Color Code\n",
      "\n",
      "99    2119\n",
      "05     608\n",
      "02     563\n",
      "OR     445\n",
      "01     426\n",
      "      ... \n",
      "TL       1\n",
      "66       1\n",
      "93       1\n",
      "73       1\n",
      "97       1\n",
      "Name: cod_color_code, Length: 110, dtype: int64\n"
     ]
    }
   ],
   "source": [
    "print(\"\\nProduct Color Code\\n\")\n",
    "print(df['cod_color_code'].value_counts())\n",
    " "
   ]
  },
  {
   "cell_type": "code",
   "execution_count": 17,
   "metadata": {},
   "outputs": [
    {
     "name": "stdout",
     "output_type": "stream",
     "text": [
      "0\n"
     ]
    }
   ],
   "source": [
    "# check duplicates\n",
    "print(df.duplicated(subset=['des_filename']).sum())"
   ]
  }
 ],
 "metadata": {
  "kernelspec": {
   "display_name": "Python 3",
   "language": "python",
   "name": "python3"
  },
  "language_info": {
   "codemirror_mode": {
    "name": "ipython",
    "version": 3
   },
   "file_extension": ".py",
   "mimetype": "text/x-python",
   "name": "python",
   "nbconvert_exporter": "python",
   "pygments_lexer": "ipython3",
   "version": "3.10.11"
  }
 },
 "nbformat": 4,
 "nbformat_minor": 2
}
